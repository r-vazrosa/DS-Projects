{
 "cells": [
  {
   "cell_type": "markdown",
   "id": "66050595-0a61-44b5-9831-27d01c877455",
   "metadata": {},
   "source": [
    "The Palmer Penguins dataset has data about penguin species, physical characteristics, and where they live in antartica"
   ]
  },
  {
   "cell_type": "code",
   "execution_count": null,
   "id": "0c7c39cc-33cb-45fa-8c9c-41c337209b40",
   "metadata": {},
   "outputs": [],
   "source": [
    "import numpy as np\n",
    "import pandas as pd\n",
    "import seaborn as sns\n",
    "import matplotlib.pyplot as plt"
   ]
  },
  {
   "cell_type": "code",
   "execution_count": null,
   "id": "53db2b86-e230-4b92-82ef-958ec31edd2c",
   "metadata": {},
   "outputs": [],
   "source": [
    "penguins_df = sns.load_dataset(\"penguins\")"
   ]
  },
  {
   "cell_type": "code",
   "execution_count": null,
   "id": "acc72b9a-e421-4727-8287-8753044a4d25",
   "metadata": {},
   "outputs": [],
   "source": [
    "penguins_df"
   ]
  },
  {
   "cell_type": "code",
   "execution_count": null,
   "id": "ed1e05a3-45fb-4cea-b28f-7692676b632f",
   "metadata": {},
   "outputs": [],
   "source": [
    "penguins_df.head(1)"
   ]
  },
  {
   "cell_type": "code",
   "execution_count": null,
   "id": "11e58ef5-450a-4c27-b229-0fac9ae636d0",
   "metadata": {},
   "outputs": [],
   "source": [
    "penguins_df.tail()"
   ]
  },
  {
   "cell_type": "code",
   "execution_count": null,
   "id": "fb31c1f8-83fc-48a7-8185-4bde1ee436b1",
   "metadata": {},
   "outputs": [],
   "source": [
    "penguins_df.shape"
   ]
  },
  {
   "cell_type": "code",
   "execution_count": null,
   "id": "ca78e4fb-5c43-4632-9877-af059ba40e4c",
   "metadata": {},
   "outputs": [],
   "source": [
    "penguins_df.info()"
   ]
  },
  {
   "cell_type": "code",
   "execution_count": null,
   "id": "4ea546b3-729f-4d8b-913c-ded57ddb708b",
   "metadata": {},
   "outputs": [],
   "source": [
    "penguins_df.describe()"
   ]
  },
  {
   "cell_type": "code",
   "execution_count": null,
   "id": "e783968c-81ea-4572-9601-f2f97721a80e",
   "metadata": {},
   "outputs": [],
   "source": [
    "penguins_df.describe(include=\"all\")"
   ]
  },
  {
   "cell_type": "code",
   "execution_count": null,
   "id": "2e1b54bd-0319-404e-ab54-1ea95150d5d7",
   "metadata": {},
   "outputs": [],
   "source": [
    "penguins_df.dtypes"
   ]
  },
  {
   "cell_type": "code",
   "execution_count": null,
   "id": "0aa514bc-b8d5-4315-b124-e5f39c646ba1",
   "metadata": {},
   "outputs": [],
   "source": [
    "numeric_cols = penguins_df.select_dtypes(include=[\"number\"])\n",
    "categorical_cols = penguins_df.select_dtypes(include=[\"object\", \"category\"])"
   ]
  },
  {
   "cell_type": "code",
   "execution_count": null,
   "id": "455a1db0-f7f6-4d97-a56c-c6ec7c7d0a6b",
   "metadata": {},
   "outputs": [],
   "source": [
    "numeric_cols"
   ]
  },
  {
   "cell_type": "code",
   "execution_count": null,
   "id": "71c6f9a1-1a8b-430c-b68e-717e3a1f7bdb",
   "metadata": {},
   "outputs": [],
   "source": [
    "categorical_cols"
   ]
  },
  {
   "cell_type": "markdown",
   "id": "183d8c34-714f-44a9-9dd4-2e5c798d3be8",
   "metadata": {},
   "source": [
    "Looking at the data, we have a decent amount of missing values for sex and full island and specices values. There doesn't seem to be any extreme outliers, but we haven't checked distributions yet so that is subject to change."
   ]
  },
  {
   "cell_type": "code",
   "execution_count": null,
   "id": "34bece0c-d1e6-432d-b3d6-9f982434c5ea",
   "metadata": {},
   "outputs": [],
   "source": []
  }
 ],
 "metadata": {
  "kernelspec": {
   "display_name": "Python 3 (ipykernel)",
   "language": "python",
   "name": "python3"
  },
  "language_info": {
   "codemirror_mode": {
    "name": "ipython",
    "version": 3
   },
   "file_extension": ".py",
   "mimetype": "text/x-python",
   "name": "python",
   "nbconvert_exporter": "python",
   "pygments_lexer": "ipython3",
   "version": "3.10.18"
  }
 },
 "nbformat": 4,
 "nbformat_minor": 5
}
