{
 "cells": [
  {
   "cell_type": "markdown",
   "id": "66050595-0a61-44b5-9831-27d01c877455",
   "metadata": {},
   "source": [
    "The Palmer Penguins dataset has data about penguin species, physical characteristics, and where they live in antartica"
   ]
  },
  {
   "cell_type": "code",
   "execution_count": null,
   "id": "0c7c39cc-33cb-45fa-8c9c-41c337209b40",
   "metadata": {},
   "outputs": [],
   "source": []
  }
 ],
 "metadata": {
  "kernelspec": {
   "display_name": "Python 3 (ipykernel)",
   "language": "python",
   "name": "python3"
  },
  "language_info": {
   "codemirror_mode": {
    "name": "ipython",
    "version": 3
   },
   "file_extension": ".py",
   "mimetype": "text/x-python",
   "name": "python",
   "nbconvert_exporter": "python",
   "pygments_lexer": "ipython3",
   "version": "3.10.18"
  }
 },
 "nbformat": 4,
 "nbformat_minor": 5
}
