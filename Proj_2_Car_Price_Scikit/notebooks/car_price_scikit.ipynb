{
 "cells": [
  {
   "cell_type": "markdown",
   "id": "09250bd4-c4db-404f-a598-cc7fcf7eec24",
   "metadata": {},
   "source": [
    "# Car Price Prediction\n",
    "\n",
    "---\n",
    "\n",
    "## Introduction\n",
    "In this notebook, we are trying to find the correlations specific details of a car might have on the price of it.\n",
    "\n",
    "## Setting up the notebook\n",
    "Run these cells only once to get the notebook set up\n",
    "\n",
    "***(make sure you have a kaggle api key and put it inside of notebooks folder)***"
   ]
  },
  {
   "cell_type": "code",
   "execution_count": 23,
   "id": "2ce5c6bb-3988-4d1f-87a3-1c7d3631efd6",
   "metadata": {},
   "outputs": [
    {
     "name": "stdout",
     "output_type": "stream",
     "text": [
      "Data folder is ready: /home/rvazrosa/Projects/DS/DS-Projects/data\n"
     ]
    }
   ],
   "source": [
    "from pathlib import Path\n",
    "import os\n",
    "\n",
    "# Create Folder (if not already made)\n",
    "DATA_DIR = Path(\"../data/\")\n",
    "DATA_DIR.mkdir(parents=True, exist_ok=True)\n",
    "print(\"Data folder is ready:\", DATA_DIR.resolve())\n",
    "\n",
    "\n"
   ]
  },
  {
   "cell_type": "code",
   "execution_count": 24,
   "id": "c0933478-36f7-474b-9433-f73a43d5b714",
   "metadata": {},
   "outputs": [
    {
     "data": {
      "text/plain": [
       "'/home/rvazrosa/Projects/DS/DS-Projects/Proj_2_Car_Price_Scikit/notebooks'"
      ]
     },
     "execution_count": 24,
     "metadata": {},
     "output_type": "execute_result"
    }
   ],
   "source": [
    "os.chdir(\"notebooks\")\n",
    "os.getcwd()"
   ]
  },
  {
   "cell_type": "code",
   "execution_count": null,
   "id": "a1a71fe8-4c47-4b7a-a1be-fb10566522f2",
   "metadata": {},
   "outputs": [],
   "source": [
    "!pip install kaggle\n"
   ]
  },
  {
   "cell_type": "code",
   "execution_count": 20,
   "id": "04c3e631-ddcb-4de5-aa0a-e3e9ffb79bfe",
   "metadata": {},
   "outputs": [],
   "source": [
    "#create folder for kaggle and move api token inside notebooks folder\n",
    "!mkdir -p ~/.kaggle\n",
    "!cp kaggle.json ~/.kaggle/\n",
    "!chmod 600 ~/.kaggle/kaggle.json"
   ]
  },
  {
   "cell_type": "code",
   "execution_count": 21,
   "id": "19799e43-c967-4d3f-b9b0-c8711f5655a7",
   "metadata": {},
   "outputs": [
    {
     "name": "stdout",
     "output_type": "stream",
     "text": [
      "Dataset URL: https://www.kaggle.com/datasets/hellbuoy/car-price-prediction\n",
      "License(s): unknown\n",
      "Downloading car-price-prediction.zip to /home/rvazrosa/Projects/DS/DS-Projects/Proj_2_Car_Price_Scikit/data\n",
      "  0%|                                               | 0.00/18.1k [00:00<?, ?B/s]\n",
      "100%|██████████████████████████████████████| 18.1k/18.1k [00:00<00:00, 16.4MB/s]\n",
      "Archive:  car-price-prediction.zip\n",
      "  inflating: CarPrice_Assignment.csv  \n",
      "  inflating: Data Dictionary - carprices.xlsx  \n"
     ]
    }
   ],
   "source": [
    "# Download and unzip the datasets in the data folder (make sure your own kaggle api is in your folder)\n",
    "os.chdir(DATA_DIR)\n",
    "\n",
    "!kaggle datasets download -d hellbuoy/car-price-prediction\n",
    "!unzip car-price-prediction.zip\n",
    "\n",
    "os.chdir(\"../notebooks\")"
   ]
  },
  {
   "cell_type": "markdown",
   "id": "907f9c29-e453-4f96-9499-8f26f86894ba",
   "metadata": {},
   "source": [
    "---\n",
    "\n",
    "## Data Exploration\n",
    "Loading the dataset and general overview of the data"
   ]
  },
  {
   "cell_type": "code",
   "execution_count": 36,
   "id": "4dc57428-c971-4c98-9b48-6978d2b56cd5",
   "metadata": {},
   "outputs": [],
   "source": [
    "import numpy as np\n",
    "import pandas as pd\n",
    "import seaborn as sns\n",
    "import matplotlib.pyplot as plt\n",
    "\n",
    "df = pd.read_csv(\"../data/CarPrice_Assignment.csv\")"
   ]
  },
  {
   "cell_type": "code",
   "execution_count": 37,
   "id": "51d5ef87-2582-4181-bab2-91a0077bf0e5",
   "metadata": {},
   "outputs": [
    {
     "name": "stdout",
     "output_type": "stream",
     "text": [
      "<class 'pandas.core.frame.DataFrame'>\n",
      "RangeIndex: 205 entries, 0 to 204\n",
      "Data columns (total 26 columns):\n",
      " #   Column            Non-Null Count  Dtype  \n",
      "---  ------            --------------  -----  \n",
      " 0   car_ID            205 non-null    int64  \n",
      " 1   symboling         205 non-null    int64  \n",
      " 2   CarName           205 non-null    object \n",
      " 3   fueltype          205 non-null    object \n",
      " 4   aspiration        205 non-null    object \n",
      " 5   doornumber        205 non-null    object \n",
      " 6   carbody           205 non-null    object \n",
      " 7   drivewheel        205 non-null    object \n",
      " 8   enginelocation    205 non-null    object \n",
      " 9   wheelbase         205 non-null    float64\n",
      " 10  carlength         205 non-null    float64\n",
      " 11  carwidth          205 non-null    float64\n",
      " 12  carheight         205 non-null    float64\n",
      " 13  curbweight        205 non-null    int64  \n",
      " 14  enginetype        205 non-null    object \n",
      " 15  cylindernumber    205 non-null    object \n",
      " 16  enginesize        205 non-null    int64  \n",
      " 17  fuelsystem        205 non-null    object \n",
      " 18  boreratio         205 non-null    float64\n",
      " 19  stroke            205 non-null    float64\n",
      " 20  compressionratio  205 non-null    float64\n",
      " 21  horsepower        205 non-null    int64  \n",
      " 22  peakrpm           205 non-null    int64  \n",
      " 23  citympg           205 non-null    int64  \n",
      " 24  highwaympg        205 non-null    int64  \n",
      " 25  price             205 non-null    float64\n",
      "dtypes: float64(8), int64(8), object(10)\n",
      "memory usage: 41.8+ KB\n"
     ]
    }
   ],
   "source": [
    "df.info()"
   ]
  },
  {
   "cell_type": "markdown",
   "id": "93642fa0-fb3d-48eb-83f3-d1acd30fb7a6",
   "metadata": {},
   "source": [
    "### Conclusion\n",
    "It seems like all the data is filled, and our key series price is the final one in the dataframe, we are ready to move forward"
   ]
  },
  {
   "cell_type": "markdown",
   "id": "49a49f58-81a9-4b5a-aa77-cdf8ce502a78",
   "metadata": {},
   "source": [
    "---\n",
    "\n",
    "## Data Cleaning\n",
    "\n",
    "Let's check for outliers, we don't have to fix null values since we checked and it was all filled\n",
    "\n",
    "We can start by creating two new dataframes, one for qualitative (*cat_df*) and one for quantative (*numericx_df*) data"
   ]
  },
  {
   "cell_type": "code",
   "execution_count": 34,
   "id": "eab6e73d-49eb-42a9-9f05-b471b253de73",
   "metadata": {},
   "outputs": [],
   "source": [
    "numeric_df = df.select_dtypes(include=\"number\")"
   ]
  },
  {
   "cell_type": "code",
   "execution_count": 35,
   "id": "d72a40d3-9076-46ed-8e87-aae21840817d",
   "metadata": {},
   "outputs": [],
   "source": [
    "cat_df = df.select_dtypes(include=\"object\")"
   ]
  },
  {
   "cell_type": "code",
   "execution_count": 64,
   "id": "14aab0d7-4ef8-4ee9-b810-7e6908f02147",
   "metadata": {},
   "outputs": [],
   "source": [
    "Q1 = numeric_df.quantile(.25)\n",
    "Q3 = numeric_df.quantile(.75)\n",
    "\n",
    "IQR = Q3 - Q1\n",
    "\n",
    "df = df[~((numeric_df < (Q1 - 1.5 * IQR)) | (numeric_df > (Q3 + 1.5 * IQR))).any(axis=1)]"
   ]
  }
 ],
 "metadata": {
  "kernelspec": {
   "display_name": "Python 3 (ipykernel)",
   "language": "python",
   "name": "python3"
  },
  "language_info": {
   "codemirror_mode": {
    "name": "ipython",
    "version": 3
   },
   "file_extension": ".py",
   "mimetype": "text/x-python",
   "name": "python",
   "nbconvert_exporter": "python",
   "pygments_lexer": "ipython3",
   "version": "3.10.19"
  }
 },
 "nbformat": 4,
 "nbformat_minor": 5
}
